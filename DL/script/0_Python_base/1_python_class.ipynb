{
 "cells": [
  {
   "cell_type": "markdown",
   "metadata": {},
   "source": [
    "# Python的类"
   ]
  },
  {
   "cell_type": "code",
   "execution_count": 1,
   "metadata": {},
   "outputs": [],
   "source": [
    "class My_Magic:\n",
    "    # __doc__ 类的描述信息\n",
    "    \"\"\"\n",
    "    类的成员包括：属性和方法\n",
    "    属性分为：静态和实例\n",
    "    方法：普通、类、静态\n",
    "    \"\"\"\n",
    "\n",
    "    __sname ='私有静态字段'\n",
    "    name = '公有静态字段'\n",
    "\n",
    "\n",
    "\t# 特殊成员 \n",
    "    # __module__    表示当前操作的对象在哪个模块\n",
    "    # __class__     表示当前操作的对象的类是什么\n",
    "    # __init__      构造方法，通过类创建对象时，自动触发执行。\n",
    "    # __del__       当对象在内存中被释放时，自动触发执行。\n",
    "    # __call__      对象后面加括号，触发执行.\n",
    "    # __dict__      类或对象中的所有成员.\n",
    "    # __str__       如果一个类中定义了__str__方法，那么在打印 对象 时，\n",
    "    #               默认输出该方法的返回值。有点像java中的toString方法.\n",
    "    # __getitem__、__setitem__、__delitem__\n",
    "    # 用于索引操作，如字典。以上分别表示获取、设置、删除数据.\n",
    "    # __getslice__、__setslice__、__delslice__\n",
    "    # 三个方法用于分片操作. \n",
    "    # __iter__      用于迭代器，之所以列表、字典、元组可以进行for循环，是因为类型内部定义了 __iter__.\n",
    "    def __init__(self):\n",
    "        # 原价\n",
    "        self.original_price = 100\n",
    "        # 折扣\n",
    "        self.discount = 0.8\n",
    "    @property \n",
    "    # @property装饰器可以把一个实例方法变成其同名属性，以支持.号访问.\n",
    "    # @price.setter 修改、\n",
    "    # @price.setter 删除。\n",
    "    def price(self):\n",
    "        # 实际价格 = 原价 * 折扣\n",
    "        new_price = self.original_price * self.discount\n",
    "        return new_price\n",
    "    \n",
    "    def ord_func(self):\n",
    "        \"\"\" 定义普通方法,至少有一个self参数 \"\"\"\n",
    "        # print self.name\n",
    "        print('普通方法')\n",
    "    @classmethod\n",
    "    def class_func(cls):\n",
    "        \"\"\" 定义类方法,至少有一个cls参数 \"\"\"\n",
    "        print('类方法')\n",
    " \n",
    "    @staticmethod\n",
    "    def static_func():\n",
    "        \"\"\" 定义静态方法 ，无默认参数\"\"\"\n",
    "        print('静态方法')\n"
   ]
  }
 ],
 "metadata": {
  "kernelspec": {
   "display_name": "pytorch_gpu",
   "language": "python",
   "name": "python3"
  },
  "language_info": {
   "codemirror_mode": {
    "name": "ipython",
    "version": 3
   },
   "file_extension": ".py",
   "mimetype": "text/x-python",
   "name": "python",
   "nbconvert_exporter": "python",
   "pygments_lexer": "ipython3",
   "version": "3.9.0"
  }
 },
 "nbformat": 4,
 "nbformat_minor": 2
}
